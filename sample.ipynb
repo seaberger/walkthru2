{
 "cells": [
  {
   "cell_type": "markdown",
   "id": "0ddab724-988a-40fa-980a-22d600652c6b",
   "metadata": {},
   "source": [
    "# Walkthru2"
   ]
  },
  {
   "cell_type": "markdown",
   "id": "4d0b1a22-00f2-4945-b877-cf642e996aa4",
   "metadata": {},
   "source": [
    "This is how I calculate `1 + 1`:"
   ]
  },
  {
   "cell_type": "code",
   "execution_count": 1,
   "id": "2d97c6ed-b3e7-48eb-bf3f-c6866e6485f3",
   "metadata": {},
   "outputs": [
    {
     "data": {
      "text/plain": [
       "2"
      ]
     },
     "execution_count": 1,
     "metadata": {},
     "output_type": "execute_result"
    }
   ],
   "source": [
    "1 + 1"
   ]
  },
  {
   "cell_type": "markdown",
   "id": "a50c5e9b-eaec-4e26-a337-09635bea0035",
   "metadata": {},
   "source": [
    "This is how I calcualte `sin`:"
   ]
  },
  {
   "cell_type": "code",
   "execution_count": 2,
   "id": "56c8b0e8-eb2f-4ac4-9efd-247d6576e44b",
   "metadata": {},
   "outputs": [],
   "source": [
    "from numpy import *"
   ]
  },
  {
   "cell_type": "code",
   "execution_count": 3,
   "id": "7fde0697-6c17-477c-b8f2-bc17c63e8b80",
   "metadata": {},
   "outputs": [
    {
     "data": {
      "text/plain": [
       "array([0.84147098, 1.        ])"
      ]
     },
     "execution_count": 3,
     "metadata": {},
     "output_type": "execute_result"
    }
   ],
   "source": [
    "a = array([1.0, pi/2])\n",
    "sin(a)"
   ]
  },
  {
   "cell_type": "markdown",
   "id": "450b1733-248b-42d0-a73e-5f7429335d4f",
   "metadata": {},
   "source": [
    "This is how I multiply `2 * 5`"
   ]
  },
  {
   "cell_type": "code",
   "execution_count": 4,
   "id": "f49d0811-2d53-4658-83cb-92eb02df34f7",
   "metadata": {},
   "outputs": [
    {
     "data": {
      "text/plain": [
       "10"
      ]
     },
     "execution_count": 4,
     "metadata": {},
     "output_type": "execute_result"
    }
   ],
   "source": [
    "2 * 5"
   ]
  },
  {
   "cell_type": "code",
   "execution_count": null,
   "id": "029b6858-871d-493b-af0c-36d3dae46141",
   "metadata": {},
   "outputs": [],
   "source": []
  }
 ],
 "metadata": {
  "kernelspec": {
   "display_name": "Python 3 (ipykernel)",
   "language": "python",
   "name": "python3"
  },
  "language_info": {
   "codemirror_mode": {
    "name": "ipython",
    "version": 3
   },
   "file_extension": ".py",
   "mimetype": "text/x-python",
   "name": "python",
   "nbconvert_exporter": "python",
   "pygments_lexer": "ipython3",
   "version": "3.10.12"
  }
 },
 "nbformat": 4,
 "nbformat_minor": 5
}
